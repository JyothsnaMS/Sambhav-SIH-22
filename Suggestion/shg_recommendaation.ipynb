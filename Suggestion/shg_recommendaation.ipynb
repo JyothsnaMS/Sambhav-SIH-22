{
 "cells": [
  {
   "cell_type": "code",
   "execution_count": 1,
   "id": "d50937e1",
   "metadata": {},
   "outputs": [],
   "source": [
    "rainy = 1.0\n",
    "allseason: 2.0\n",
    "summer = 3.0\n",
    "winter = 4.0\n",
    "allseasons = 5.0"
   ]
  },
  {
   "cell_type": "code",
   "execution_count": 2,
   "id": "f9b6eb09",
   "metadata": {},
   "outputs": [],
   "source": [
    "accesories=  1.0\n",
    "clothing = 2.0\n",
    "decorative = 3.0\n",
    "handicrafts = 4.0\n",
    "homecare = 5.0\n",
    "selfcare = 6.0\n",
    "kitchen = 7.0\n",
    "food = 8.0\n",
    "toys = 9.0\n",
    "stationary = 10.0"
   ]
  },
  {
   "cell_type": "code",
   "execution_count": 3,
   "id": "21dd3551",
   "metadata": {},
   "outputs": [],
   "source": [
    "from sklearn.model_selection import train_test_split\n",
    "import pandas as pd\n",
    "from sklearn.svm import SVC\n",
    "from sklearn.naive_bayes import GaussianNB\n",
    "from sklearn.ensemble import RandomForestClassifier, VotingClassifier\n",
    "from sklearn.neighbors import KNeighborsClassifier\n",
    "from sklearn.metrics import accuracy_score\n",
    "from sklearn import model_selection"
   ]
  },
  {
   "cell_type": "code",
   "execution_count": 4,
   "id": "60468abe",
   "metadata": {},
   "outputs": [],
   "source": [
    "def compute_accuracy(y_true, y_pred):\n",
    "    correct_predictions = 0\n",
    "    # iterate over each label and check\n",
    "    for true, predicted in zip(y_true, y_pred):\n",
    "        if true == predicted:\n",
    "            correct_predictions += 1\n",
    "    # compute the accuracy\n",
    "    accuracy = correct_predictions/len(y_true)\n",
    "    return accuracy"
   ]
  },
  {
   "cell_type": "code",
   "execution_count": 4,
   "id": "7a12a8ab",
   "metadata": {},
   "outputs": [],
   "source": [
    "df = pd.read_csv(\"shgrec.csv\")"
   ]
  },
  {
   "cell_type": "code",
   "execution_count": 5,
   "id": "a1748a99",
   "metadata": {},
   "outputs": [
    {
     "data": {
      "text/html": [
       "<div>\n",
       "<style scoped>\n",
       "    .dataframe tbody tr th:only-of-type {\n",
       "        vertical-align: middle;\n",
       "    }\n",
       "\n",
       "    .dataframe tbody tr th {\n",
       "        vertical-align: top;\n",
       "    }\n",
       "\n",
       "    .dataframe thead th {\n",
       "        text-align: right;\n",
       "    }\n",
       "</style>\n",
       "<table border=\"1\" class=\"dataframe\">\n",
       "  <thead>\n",
       "    <tr style=\"text-align: right;\">\n",
       "      <th></th>\n",
       "      <th>season</th>\n",
       "      <th>ratings</th>\n",
       "      <th>avaialability</th>\n",
       "      <th>search</th>\n",
       "      <th>category</th>\n",
       "      <th>product</th>\n",
       "    </tr>\n",
       "  </thead>\n",
       "  <tbody>\n",
       "    <tr>\n",
       "      <th>0</th>\n",
       "      <td>rainy</td>\n",
       "      <td>3</td>\n",
       "      <td>0</td>\n",
       "      <td>5</td>\n",
       "      <td>accesories</td>\n",
       "      <td>umbrella</td>\n",
       "    </tr>\n",
       "    <tr>\n",
       "      <th>1</th>\n",
       "      <td>rainy</td>\n",
       "      <td>4</td>\n",
       "      <td>1</td>\n",
       "      <td>2</td>\n",
       "      <td>clothing</td>\n",
       "      <td>raincoat</td>\n",
       "    </tr>\n",
       "    <tr>\n",
       "      <th>2</th>\n",
       "      <td>all season</td>\n",
       "      <td>5</td>\n",
       "      <td>0</td>\n",
       "      <td>6</td>\n",
       "      <td>decorative</td>\n",
       "      <td>candles</td>\n",
       "    </tr>\n",
       "    <tr>\n",
       "      <th>3</th>\n",
       "      <td>all season</td>\n",
       "      <td>5</td>\n",
       "      <td>0</td>\n",
       "      <td>9</td>\n",
       "      <td>accesories</td>\n",
       "      <td>comb</td>\n",
       "    </tr>\n",
       "    <tr>\n",
       "      <th>4</th>\n",
       "      <td>rainy</td>\n",
       "      <td>4</td>\n",
       "      <td>1</td>\n",
       "      <td>4</td>\n",
       "      <td>clothing</td>\n",
       "      <td>sweaters</td>\n",
       "    </tr>\n",
       "  </tbody>\n",
       "</table>\n",
       "</div>"
      ],
      "text/plain": [
       "       season  ratings  avaialability  search    category   product\n",
       "0       rainy        3              0       5  accesories  umbrella\n",
       "1       rainy        4              1       2    clothing  raincoat\n",
       "2  all season        5              0       6  decorative   candles\n",
       "3  all season        5              0       9  accesories      comb\n",
       "4       rainy        4              1       4    clothing  sweaters"
      ]
     },
     "execution_count": 5,
     "metadata": {},
     "output_type": "execute_result"
    }
   ],
   "source": [
    "data = df.copy()\n",
    "data.head()"
   ]
  },
  {
   "cell_type": "code",
   "execution_count": 6,
   "id": "93c21c81",
   "metadata": {},
   "outputs": [],
   "source": [
    "import category_encoders as ce"
   ]
  },
  {
   "cell_type": "code",
   "execution_count": 7,
   "id": "8ec9fac3",
   "metadata": {},
   "outputs": [
    {
     "data": {
      "text/plain": [
       "array(['rainy', 'all season', 'summer', 'winter', ' all season'],\n",
       "      dtype=object)"
      ]
     },
     "execution_count": 7,
     "metadata": {},
     "output_type": "execute_result"
    }
   ],
   "source": [
    "data['season'].unique()"
   ]
  },
  {
   "cell_type": "code",
   "execution_count": 8,
   "id": "aaef1d35",
   "metadata": {},
   "outputs": [
    {
     "data": {
      "text/plain": [
       "array(['accesories', 'clothing', 'decorative', 'handicrafts', 'homecare',\n",
       "       'selfcare', 'kitchen', 'food', 'toys', 'stationary'], dtype=object)"
      ]
     },
     "execution_count": 8,
     "metadata": {},
     "output_type": "execute_result"
    }
   ],
   "source": [
    "data['category'].unique()"
   ]
  },
  {
   "cell_type": "code",
   "execution_count": 9,
   "id": "2ca0f668",
   "metadata": {},
   "outputs": [],
   "source": [
    "season_dict = {'rainy': 1,'all season': 2,'summer': 3,'season': 4,\" all season\":5}\n",
    "data[\"season\"] = data.season.map(season_dict)"
   ]
  },
  {
   "cell_type": "code",
   "execution_count": 10,
   "id": "373fb611",
   "metadata": {},
   "outputs": [],
   "source": [
    "category_dict = {'accesories' : 1, 'clothing':2, 'decorative':3, 'handicrafts':4, 'homecare':5,\n",
    "       'selfcare':6, 'kitchen':7, 'food':8, 'toys':9, 'stationary':10}\n",
    "data[\"category\"] = data.category.map(category_dict)"
   ]
  },
  {
   "cell_type": "code",
   "execution_count": 11,
   "id": "acf5755a",
   "metadata": {},
   "outputs": [
    {
     "data": {
      "text/html": [
       "<div>\n",
       "<style scoped>\n",
       "    .dataframe tbody tr th:only-of-type {\n",
       "        vertical-align: middle;\n",
       "    }\n",
       "\n",
       "    .dataframe tbody tr th {\n",
       "        vertical-align: top;\n",
       "    }\n",
       "\n",
       "    .dataframe thead th {\n",
       "        text-align: right;\n",
       "    }\n",
       "</style>\n",
       "<table border=\"1\" class=\"dataframe\">\n",
       "  <thead>\n",
       "    <tr style=\"text-align: right;\">\n",
       "      <th></th>\n",
       "      <th>season</th>\n",
       "      <th>ratings</th>\n",
       "      <th>avaialability</th>\n",
       "      <th>search</th>\n",
       "      <th>category</th>\n",
       "      <th>product</th>\n",
       "    </tr>\n",
       "  </thead>\n",
       "  <tbody>\n",
       "    <tr>\n",
       "      <th>0</th>\n",
       "      <td>1.0</td>\n",
       "      <td>3</td>\n",
       "      <td>0</td>\n",
       "      <td>5</td>\n",
       "      <td>1</td>\n",
       "      <td>umbrella</td>\n",
       "    </tr>\n",
       "    <tr>\n",
       "      <th>1</th>\n",
       "      <td>1.0</td>\n",
       "      <td>4</td>\n",
       "      <td>1</td>\n",
       "      <td>2</td>\n",
       "      <td>2</td>\n",
       "      <td>raincoat</td>\n",
       "    </tr>\n",
       "    <tr>\n",
       "      <th>2</th>\n",
       "      <td>2.0</td>\n",
       "      <td>5</td>\n",
       "      <td>0</td>\n",
       "      <td>6</td>\n",
       "      <td>3</td>\n",
       "      <td>candles</td>\n",
       "    </tr>\n",
       "    <tr>\n",
       "      <th>3</th>\n",
       "      <td>2.0</td>\n",
       "      <td>5</td>\n",
       "      <td>0</td>\n",
       "      <td>9</td>\n",
       "      <td>1</td>\n",
       "      <td>comb</td>\n",
       "    </tr>\n",
       "    <tr>\n",
       "      <th>4</th>\n",
       "      <td>1.0</td>\n",
       "      <td>4</td>\n",
       "      <td>1</td>\n",
       "      <td>4</td>\n",
       "      <td>2</td>\n",
       "      <td>sweaters</td>\n",
       "    </tr>\n",
       "    <tr>\n",
       "      <th>...</th>\n",
       "      <td>...</td>\n",
       "      <td>...</td>\n",
       "      <td>...</td>\n",
       "      <td>...</td>\n",
       "      <td>...</td>\n",
       "      <td>...</td>\n",
       "    </tr>\n",
       "    <tr>\n",
       "      <th>94</th>\n",
       "      <td>2.0</td>\n",
       "      <td>2</td>\n",
       "      <td>1</td>\n",
       "      <td>3</td>\n",
       "      <td>10</td>\n",
       "      <td>scale</td>\n",
       "    </tr>\n",
       "    <tr>\n",
       "      <th>95</th>\n",
       "      <td>2.0</td>\n",
       "      <td>3</td>\n",
       "      <td>0</td>\n",
       "      <td>3</td>\n",
       "      <td>10</td>\n",
       "      <td>eraser</td>\n",
       "    </tr>\n",
       "    <tr>\n",
       "      <th>96</th>\n",
       "      <td>2.0</td>\n",
       "      <td>4</td>\n",
       "      <td>1</td>\n",
       "      <td>5</td>\n",
       "      <td>10</td>\n",
       "      <td>sharpner</td>\n",
       "    </tr>\n",
       "    <tr>\n",
       "      <th>97</th>\n",
       "      <td>2.0</td>\n",
       "      <td>1</td>\n",
       "      <td>0</td>\n",
       "      <td>1</td>\n",
       "      <td>10</td>\n",
       "      <td>books</td>\n",
       "    </tr>\n",
       "    <tr>\n",
       "      <th>98</th>\n",
       "      <td>2.0</td>\n",
       "      <td>1</td>\n",
       "      <td>1</td>\n",
       "      <td>1</td>\n",
       "      <td>5</td>\n",
       "      <td>photo  frames</td>\n",
       "    </tr>\n",
       "  </tbody>\n",
       "</table>\n",
       "<p>99 rows × 6 columns</p>\n",
       "</div>"
      ],
      "text/plain": [
       "    season  ratings  avaialability  search  category        product\n",
       "0      1.0        3              0       5         1       umbrella\n",
       "1      1.0        4              1       2         2       raincoat\n",
       "2      2.0        5              0       6         3        candles\n",
       "3      2.0        5              0       9         1           comb\n",
       "4      1.0        4              1       4         2       sweaters\n",
       "..     ...      ...            ...     ...       ...            ...\n",
       "94     2.0        2              1       3        10          scale\n",
       "95     2.0        3              0       3        10         eraser\n",
       "96     2.0        4              1       5        10       sharpner\n",
       "97     2.0        1              0       1        10          books\n",
       "98     2.0        1              1       1         5  photo  frames\n",
       "\n",
       "[99 rows x 6 columns]"
      ]
     },
     "execution_count": 11,
     "metadata": {},
     "output_type": "execute_result"
    }
   ],
   "source": [
    "data"
   ]
  },
  {
   "cell_type": "code",
   "execution_count": 12,
   "id": "7bc3bc9d",
   "metadata": {},
   "outputs": [
    {
     "data": {
      "text/plain": [
       "(99, 6)"
      ]
     },
     "execution_count": 12,
     "metadata": {},
     "output_type": "execute_result"
    }
   ],
   "source": [
    "data.shape"
   ]
  },
  {
   "cell_type": "code",
   "execution_count": 13,
   "id": "e70a9f51",
   "metadata": {},
   "outputs": [
    {
     "name": "stdout",
     "output_type": "stream",
     "text": [
      "<class 'pandas.core.frame.DataFrame'>\n",
      "RangeIndex: 99 entries, 0 to 98\n",
      "Data columns (total 6 columns):\n",
      " #   Column         Non-Null Count  Dtype \n",
      "---  ------         --------------  ----- \n",
      " 0   season         99 non-null     object\n",
      " 1   ratings        99 non-null     int64 \n",
      " 2   avaialability  99 non-null     int64 \n",
      " 3   search         99 non-null     int64 \n",
      " 4   category       99 non-null     object\n",
      " 5   product        99 non-null     object\n",
      "dtypes: int64(3), object(3)\n",
      "memory usage: 4.8+ KB\n"
     ]
    }
   ],
   "source": [
    "df.info()"
   ]
  },
  {
   "cell_type": "code",
   "execution_count": 14,
   "id": "a1109781",
   "metadata": {},
   "outputs": [
    {
     "data": {
      "text/plain": [
       "season           3\n",
       "ratings          0\n",
       "avaialability    0\n",
       "search           0\n",
       "category         0\n",
       "product          0\n",
       "dtype: int64"
      ]
     },
     "execution_count": 14,
     "metadata": {},
     "output_type": "execute_result"
    }
   ],
   "source": [
    "data.isnull().sum()"
   ]
  },
  {
   "cell_type": "code",
   "execution_count": 15,
   "id": "b4ec233a",
   "metadata": {},
   "outputs": [],
   "source": [
    "data2 = data.fillna(2)"
   ]
  },
  {
   "cell_type": "code",
   "execution_count": 16,
   "id": "fb366bad",
   "metadata": {},
   "outputs": [
    {
     "data": {
      "text/plain": [
       "season           3\n",
       "ratings          0\n",
       "avaialability    0\n",
       "search           0\n",
       "category         0\n",
       "product          0\n",
       "dtype: int64"
      ]
     },
     "execution_count": 16,
     "metadata": {},
     "output_type": "execute_result"
    }
   ],
   "source": [
    "data.isnull().sum()"
   ]
  },
  {
   "cell_type": "code",
   "execution_count": 17,
   "id": "525ee2af",
   "metadata": {},
   "outputs": [
    {
     "data": {
      "text/html": [
       "<div>\n",
       "<style scoped>\n",
       "    .dataframe tbody tr th:only-of-type {\n",
       "        vertical-align: middle;\n",
       "    }\n",
       "\n",
       "    .dataframe tbody tr th {\n",
       "        vertical-align: top;\n",
       "    }\n",
       "\n",
       "    .dataframe thead th {\n",
       "        text-align: right;\n",
       "    }\n",
       "</style>\n",
       "<table border=\"1\" class=\"dataframe\">\n",
       "  <thead>\n",
       "    <tr style=\"text-align: right;\">\n",
       "      <th></th>\n",
       "      <th>season</th>\n",
       "      <th>ratings</th>\n",
       "      <th>avaialability</th>\n",
       "      <th>search</th>\n",
       "      <th>category</th>\n",
       "      <th>product</th>\n",
       "    </tr>\n",
       "  </thead>\n",
       "  <tbody>\n",
       "    <tr>\n",
       "      <th>0</th>\n",
       "      <td>1.0</td>\n",
       "      <td>3</td>\n",
       "      <td>0</td>\n",
       "      <td>5</td>\n",
       "      <td>1</td>\n",
       "      <td>umbrella</td>\n",
       "    </tr>\n",
       "    <tr>\n",
       "      <th>1</th>\n",
       "      <td>1.0</td>\n",
       "      <td>4</td>\n",
       "      <td>1</td>\n",
       "      <td>2</td>\n",
       "      <td>2</td>\n",
       "      <td>raincoat</td>\n",
       "    </tr>\n",
       "    <tr>\n",
       "      <th>2</th>\n",
       "      <td>2.0</td>\n",
       "      <td>5</td>\n",
       "      <td>0</td>\n",
       "      <td>6</td>\n",
       "      <td>3</td>\n",
       "      <td>candles</td>\n",
       "    </tr>\n",
       "    <tr>\n",
       "      <th>3</th>\n",
       "      <td>2.0</td>\n",
       "      <td>5</td>\n",
       "      <td>0</td>\n",
       "      <td>9</td>\n",
       "      <td>1</td>\n",
       "      <td>comb</td>\n",
       "    </tr>\n",
       "    <tr>\n",
       "      <th>4</th>\n",
       "      <td>1.0</td>\n",
       "      <td>4</td>\n",
       "      <td>1</td>\n",
       "      <td>4</td>\n",
       "      <td>2</td>\n",
       "      <td>sweaters</td>\n",
       "    </tr>\n",
       "    <tr>\n",
       "      <th>...</th>\n",
       "      <td>...</td>\n",
       "      <td>...</td>\n",
       "      <td>...</td>\n",
       "      <td>...</td>\n",
       "      <td>...</td>\n",
       "      <td>...</td>\n",
       "    </tr>\n",
       "    <tr>\n",
       "      <th>94</th>\n",
       "      <td>2.0</td>\n",
       "      <td>2</td>\n",
       "      <td>1</td>\n",
       "      <td>3</td>\n",
       "      <td>10</td>\n",
       "      <td>scale</td>\n",
       "    </tr>\n",
       "    <tr>\n",
       "      <th>95</th>\n",
       "      <td>2.0</td>\n",
       "      <td>3</td>\n",
       "      <td>0</td>\n",
       "      <td>3</td>\n",
       "      <td>10</td>\n",
       "      <td>eraser</td>\n",
       "    </tr>\n",
       "    <tr>\n",
       "      <th>96</th>\n",
       "      <td>2.0</td>\n",
       "      <td>4</td>\n",
       "      <td>1</td>\n",
       "      <td>5</td>\n",
       "      <td>10</td>\n",
       "      <td>sharpner</td>\n",
       "    </tr>\n",
       "    <tr>\n",
       "      <th>97</th>\n",
       "      <td>2.0</td>\n",
       "      <td>1</td>\n",
       "      <td>0</td>\n",
       "      <td>1</td>\n",
       "      <td>10</td>\n",
       "      <td>books</td>\n",
       "    </tr>\n",
       "    <tr>\n",
       "      <th>98</th>\n",
       "      <td>2.0</td>\n",
       "      <td>1</td>\n",
       "      <td>1</td>\n",
       "      <td>1</td>\n",
       "      <td>5</td>\n",
       "      <td>photo  frames</td>\n",
       "    </tr>\n",
       "  </tbody>\n",
       "</table>\n",
       "<p>99 rows × 6 columns</p>\n",
       "</div>"
      ],
      "text/plain": [
       "    season  ratings  avaialability  search  category        product\n",
       "0      1.0        3              0       5         1       umbrella\n",
       "1      1.0        4              1       2         2       raincoat\n",
       "2      2.0        5              0       6         3        candles\n",
       "3      2.0        5              0       9         1           comb\n",
       "4      1.0        4              1       4         2       sweaters\n",
       "..     ...      ...            ...     ...       ...            ...\n",
       "94     2.0        2              1       3        10          scale\n",
       "95     2.0        3              0       3        10         eraser\n",
       "96     2.0        4              1       5        10       sharpner\n",
       "97     2.0        1              0       1        10          books\n",
       "98     2.0        1              1       1         5  photo  frames\n",
       "\n",
       "[99 rows x 6 columns]"
      ]
     },
     "execution_count": 17,
     "metadata": {},
     "output_type": "execute_result"
    }
   ],
   "source": [
    "data2"
   ]
  },
  {
   "cell_type": "code",
   "execution_count": 18,
   "id": "ee604487",
   "metadata": {},
   "outputs": [
    {
     "data": {
      "text/plain": [
       "season           0\n",
       "ratings          0\n",
       "avaialability    0\n",
       "search           0\n",
       "category         0\n",
       "product          0\n",
       "dtype: int64"
      ]
     },
     "execution_count": 18,
     "metadata": {},
     "output_type": "execute_result"
    }
   ],
   "source": [
    "data2.isnull().sum()"
   ]
  },
  {
   "cell_type": "code",
   "execution_count": 19,
   "id": "08cad430",
   "metadata": {},
   "outputs": [],
   "source": [
    "#pip install category_encoders"
   ]
  },
  {
   "cell_type": "code",
   "execution_count": 20,
   "id": "9a9129ba",
   "metadata": {},
   "outputs": [],
   "source": [
    "X = data2.iloc[:,:-1].values\n",
    "Y = data2.iloc[:,-1].values"
   ]
  },
  {
   "cell_type": "code",
   "execution_count": 21,
   "id": "37376c11",
   "metadata": {},
   "outputs": [],
   "source": [
    "X_train, X_test, y_train, y_test = train_test_split(X, Y, test_size = 0.15)"
   ]
  },
  {
   "cell_type": "code",
   "execution_count": 22,
   "id": "1fdb01ee",
   "metadata": {},
   "outputs": [],
   "source": [
    "models = []\n",
    "models.append(('SVC', SVC(gamma ='auto', probability = True)))\n",
    "models.append(('svm1', SVC(probability=True, kernel='poly', degree=1)))\n",
    "models.append(('svm2', SVC(probability=True, kernel='poly', degree=2)))\n",
    "models.append(('svm3', SVC(probability=True, kernel='poly', degree=3)))\n",
    "models.append(('svm4', SVC(probability=True, kernel='poly', degree=4)))\n",
    "models.append(('svm5', SVC(probability=True, kernel='poly', degree=5)))\n",
    "models.append(('rf',RandomForestClassifier(n_estimators = 21)))\n",
    "models.append(('gnb',GaussianNB()))\n",
    "models.append(('knn1', KNeighborsClassifier(n_neighbors=1)))\n",
    "models.append(('knn3', KNeighborsClassifier(n_neighbors=3)))\n",
    "models.append(('knn5', KNeighborsClassifier(n_neighbors=5)))\n",
    "models.append(('knn7', KNeighborsClassifier(n_neighbors=7)))\n",
    "models.append(('knn9', KNeighborsClassifier(n_neighbors=9)))"
   ]
  },
  {
   "cell_type": "code",
   "execution_count": 23,
   "id": "a1c59600",
   "metadata": {},
   "outputs": [],
   "source": [
    "vot_soft = VotingClassifier(estimators=models, voting='soft')\n",
    "vot_soft.fit(X_train, y_train)\n",
    "y_pred = vot_soft.predict(X_test)"
   ]
  },
  {
   "cell_type": "code",
   "execution_count": 24,
   "id": "1dd79896",
   "metadata": {},
   "outputs": [
    {
     "data": {
      "text/plain": [
       "array(['wall hanging', 'gloves', 'night lamp', 'pens', 'wooden bangles',\n",
       "       'raisins', 'face cream', 'face mask', 'herbal face creams',\n",
       "       'gloves', 'origami', 'sofa set', 'photo  frames',\n",
       "       'hand moisturizer', 'basil leaves'], dtype=object)"
      ]
     },
     "execution_count": 24,
     "metadata": {},
     "output_type": "execute_result"
    }
   ],
   "source": [
    "y_pred"
   ]
  },
  {
   "cell_type": "code",
   "execution_count": 25,
   "id": "202e6701",
   "metadata": {},
   "outputs": [
    {
     "data": {
      "text/plain": [
       "array(['dreamcatcher', 'bindi', 'wooden arts', 'scale', 'hair pins',\n",
       "       'almonds', 'clay handi', 'straw', 'mop', 'raincoat', 'comb',\n",
       "       'tissue paper', 'dhoop batti', 'hand soaps', 'sharpner'],\n",
       "      dtype=object)"
      ]
     },
     "execution_count": 25,
     "metadata": {},
     "output_type": "execute_result"
    }
   ],
   "source": [
    "y_test"
   ]
  },
  {
   "cell_type": "code",
   "execution_count": 26,
   "id": "bddfc0c2",
   "metadata": {},
   "outputs": [
    {
     "data": {
      "text/plain": [
       "array([[ 2.,  1.,  1.,  6.,  4.],\n",
       "       [ 2.,  5.,  1.,  3.,  1.],\n",
       "       [ 2.,  4.,  1.,  2.,  4.],\n",
       "       [ 2.,  2.,  1.,  3., 10.],\n",
       "       [ 2.,  1.,  0.,  2.,  1.],\n",
       "       [ 2.,  4.,  1.,  6.,  8.],\n",
       "       [ 2.,  1.,  0.,  5.,  7.],\n",
       "       [ 2.,  3.,  1.,  2.,  7.],\n",
       "       [ 2.,  2.,  1.,  3.,  5.],\n",
       "       [ 1.,  4.,  1.,  2.,  2.],\n",
       "       [ 2.,  5.,  0.,  9.,  1.],\n",
       "       [ 2.,  2.,  1.,  5.,  5.],\n",
       "       [ 2.,  2.,  1.,  0.,  5.],\n",
       "       [ 2.,  3.,  1.,  6.,  6.],\n",
       "       [ 2.,  4.,  1.,  5., 10.]])"
      ]
     },
     "execution_count": 26,
     "metadata": {},
     "output_type": "execute_result"
    }
   ],
   "source": [
    "X_test"
   ]
  },
  {
   "cell_type": "code",
   "execution_count": 28,
   "id": "9105aade",
   "metadata": {},
   "outputs": [],
   "source": [
    "y_pred = vot_soft.predict([[summer, 5, 1, 3, homecare]])"
   ]
  },
  {
   "cell_type": "code",
   "execution_count": 29,
   "id": "123ea3bc",
   "metadata": {},
   "outputs": [
    {
     "data": {
      "text/plain": [
       "array(['night lamp'], dtype=object)"
      ]
     },
     "execution_count": 29,
     "metadata": {},
     "output_type": "execute_result"
    }
   ],
   "source": [
    "y_pred"
   ]
  },
  {
   "cell_type": "code",
   "execution_count": null,
   "id": "91b3ddbb",
   "metadata": {},
   "outputs": [],
   "source": []
  },
  {
   "cell_type": "code",
   "execution_count": 1,
   "id": "07dc65a4",
   "metadata": {},
   "outputs": [],
   "source": [
    "#accuracy_score = accuracy_score(y_test, y_pred)\n",
    "#print(accuracy_score)"
   ]
  },
  {
   "cell_type": "code",
   "execution_count": 53,
   "id": "7757b912",
   "metadata": {},
   "outputs": [
    {
     "name": "stdout",
     "output_type": "stream",
     "text": [
      "misclassified values :  15\n"
     ]
    }
   ],
   "source": [
    "print('misclassified values : ', (y_test != y_pred).sum())"
   ]
  },
  {
   "cell_type": "code",
   "execution_count": 2,
   "id": "6e3ffe74",
   "metadata": {},
   "outputs": [],
   "source": [
    "#confusion_matrix = confusion_matrix(y_test,y_pred)\n",
    "#confusion_matrix"
   ]
  },
  {
   "cell_type": "code",
   "execution_count": 55,
   "id": "aeac8207",
   "metadata": {},
   "outputs": [],
   "source": [
    "from sklearn.metrics import accuracy_score, confusion_matrix"
   ]
  },
  {
   "cell_type": "code",
   "execution_count": null,
   "id": "22a2518f",
   "metadata": {},
   "outputs": [],
   "source": [
    "import seaborn as sns\n",
    "import matplotlib.pyplot as plt\n",
    "%matplotlib inline\n",
    "plt.figure(figsize = (10, 10))\n",
    "mapheat =sns.heatmap(confusion_matrix)\n",
    "mapheat"
   ]
  },
  {
   "cell_type": "code",
   "execution_count": null,
   "id": "a7849a5b",
   "metadata": {},
   "outputs": [],
   "source": []
  }
 ],
 "metadata": {
  "kernelspec": {
   "display_name": "Python 3",
   "language": "python",
   "name": "python3"
  },
  "language_info": {
   "codemirror_mode": {
    "name": "ipython",
    "version": 3
   },
   "file_extension": ".py",
   "mimetype": "text/x-python",
   "name": "python",
   "nbconvert_exporter": "python",
   "pygments_lexer": "ipython3",
   "version": "3.8.8"
  }
 },
 "nbformat": 4,
 "nbformat_minor": 5
}
